{
 "cells": [
  {
   "cell_type": "markdown",
   "metadata": {},
   "source": [
    "## GUI to plot results from various codes"
   ]
  },
  {
   "cell_type": "code",
   "execution_count": 1,
   "metadata": {},
   "outputs": [],
   "source": [
    "#NOTES:\n",
    "# To install (in a python 3 virtual environment):\n",
    "# - pip install numpy matplotlib ipywidgets\n",
    "# - pip install widget_periodictable\n",
    "# - jupyter nbextension enable --py widget_periodictable"
   ]
  },
  {
   "cell_type": "code",
   "execution_count": 2,
   "metadata": {},
   "outputs": [],
   "source": [
    "import json\n",
    "import os\n",
    "import numpy as np\n",
    "import pylab as pl\n",
    "import ipywidgets as ipw\n",
    "import widget_periodictable"
   ]
  },
  {
   "cell_type": "code",
   "execution_count": 3,
   "metadata": {},
   "outputs": [],
   "source": [
    "def get_conf_nice(configuration_string):\n",
    "    \"\"\"Convert the configuration string to a nicely typeset string in LaTeX.\"\"\"\n",
    "    ret_pieces = []\n",
    "    for char in configuration_string:\n",
    "        if char in \"0123456789\":\n",
    "            ret_pieces.append(f\"$_{char}$\")\n",
    "        else:\n",
    "            ret_pieces.append(char)\n",
    "    return \"\".join(ret_pieces)\n",
    "\n",
    "\n",
    "def birch_murnaghan(V,E0,V0,B0,B01):\n",
    "    r = (V0/V)**(2./3.)\n",
    "    return (E0 +\n",
    "            9./16. * B0 * V0 * (\n",
    "            (r-1.)**3 * B01 + \n",
    "            (r-1.)**2 * (6. - 4.* r)))"
   ]
  },
  {
   "cell_type": "code",
   "execution_count": 4,
   "metadata": {},
   "outputs": [],
   "source": [
    "# Get all results from all codes\n",
    "file_prefix = 'results-'\n",
    "file_suffix = '.json'\n",
    "\n",
    "results_folder = os.curdir\n",
    "\n",
    "code_results = {}\n",
    "for fname in os.listdir(results_folder):\n",
    "    if fname.startswith(file_prefix) and fname.endswith(file_suffix):\n",
    "        label = fname[len(file_prefix):-len(file_suffix)]\n",
    "        with open(os.path.join(results_folder, fname)) as fhandle:\n",
    "            code_results[label] = json.load(fhandle)\n",
    "\n",
    "#print(f\"Found results for {len(code_results)} codes\")"
   ]
  },
  {
   "cell_type": "code",
   "execution_count": 5,
   "metadata": {},
   "outputs": [],
   "source": [
    "colors = ['#1f78b4', '#33a02c', '#e31a1c', '#ff7f00', '#6a3d9a', '#b15928', '#a6cee3', '#b2df8a', '#fb9a99', '#fdbf6f', '#cab2d6', '#ffff99']\n",
    "color_code_map = {}\n",
    "index = 0\n",
    "for plugin_name in code_results:\n",
    "    color_code_map[plugin_name] = colors[index]\n",
    "    index = index + 1\n",
    "    index = index % len(colors) "
   ]
  },
  {
   "cell_type": "code",
   "execution_count": 6,
   "metadata": {},
   "outputs": [],
   "source": [
    "# For a configuration, loops over the data sets (one set for each code) and plot the data,\n",
    "# boths the eos points and the birch murnaghan curves. \n",
    "def plot_for_element(code_results, element, configuration, selected_codes, axes):\n",
    "    \n",
    "    # The eos data are plotted straight away in the codes loop, on the contrary we\n",
    "    # delay the plotting of the fitted data, so to have the same x range for all.\n",
    "    # The fitting curves info are collected in this list.\n",
    "    fit_data = []\n",
    "    \n",
    "    # Initializations\n",
    "    color_idx = 0\n",
    "    dense_volume_range = None # Will eventually be a tuple with (min_volume, max_volume)\n",
    "    y_range = None\n",
    "    \n",
    "    # Loop over codes\n",
    "    for code_name in sorted(code_results):\n",
    "        reference_plugin_data = code_results[code_name]\n",
    "\n",
    "        # Get the EOS data\n",
    "        try:\n",
    "            eos_data = reference_plugin_data['eos_data'][f'{element}-{configuration}']\n",
    "        except KeyError:\n",
    "            # This code does not have eos data, but it might have the birch murnaghan parameters\n",
    "            # (for instance reference data sets). We set eos_data to None and go on\n",
    "            eos_data = None\n",
    "\n",
    "        # Get the fitted data\n",
    "        try:\n",
    "            ref_BM_fit_data = reference_plugin_data['BM_fit_data'][f'{element}-{configuration}']\n",
    "        except KeyError:\n",
    "            # Set to None if fit data is missing (might be fit failed). We will still plot the\n",
    "            # points using a trick to find the reference energy.\n",
    "            ref_BM_fit_data = None \n",
    "            \n",
    "        # Only in no data and fit are present we skip\n",
    "        if eos_data is None and ref_BM_fit_data is None:\n",
    "            continue\n",
    "\n",
    "        # Take care of range. We update the minimum and maximum volume. It is an iterative process\n",
    "        # so we have a range that includes all the relevant info for any set of data\n",
    "        if ref_BM_fit_data is not None:\n",
    "            if dense_volume_range is None:\n",
    "                dense_volume_range = (ref_BM_fit_data['min_volume'] * 0.97, ref_BM_fit_data['min_volume'] * 1.03)\n",
    "            else:\n",
    "                dense_volume_range = (\n",
    "                    min(ref_BM_fit_data['min_volume'] * 0.97, dense_volume_range[0]), \n",
    "                    max(ref_BM_fit_data['min_volume'] * 1.03, dense_volume_range[1])\n",
    "                )\n",
    "        if eos_data is not None:\n",
    "            volumes, energies = (np.array(eos_data).T).tolist()\n",
    "            if dense_volume_range is None:\n",
    "                dense_volume_range = (min(volumes), max(volumes))\n",
    "            else:\n",
    "                dense_volume_range = (\n",
    "                    min(min(volumes), dense_volume_range[0]), \n",
    "                    max(max(volumes), dense_volume_range[1]))\n",
    "        \n",
    "        # Plotting style. It is different for selected and unselected codes. The unselected\n",
    "        # codes will be in grey and put on the background.\n",
    "        alpha = 1.\n",
    "        send_to_back = False\n",
    "        if code_name not in selected_codes:\n",
    "            curve_color = '#000000'\n",
    "            alpha = 0.1\n",
    "            send_to_back = True\n",
    "        else:\n",
    "            curve_color = color_code_map[code_name]\n",
    "            color_idx += 1\n",
    "\n",
    "        # Set energy shift (important to compare among codes!!!)\n",
    "        warning_string = ''\n",
    "        if ref_BM_fit_data is not None:\n",
    "            # Situation when all fit parameters but E0 are present, this hopefully happens only when\n",
    "            # only fit data are present. To set to zero is the good choice\n",
    "            if ref_BM_fit_data.get('E0') is None:\n",
    "                ref_BM_fit_data['E0'] = 0. \n",
    "            energy_shift = ref_BM_fit_data['E0']\n",
    "        else:\n",
    "            # No fit data, shift selected to be the minimum of the energies. Not correct in general \n",
    "            # because we might not have the exact minimum on the grid, or even minimum might be out of range\n",
    "            warning_string = \" (WARNING NO FIT!)\"\n",
    "            volumes, energies = (np.array(eos_data).T).tolist()\n",
    "            energy_shift = min(energies)\n",
    "        \n",
    "        # Collect the fitting data to plot later (only later will have correct range)\n",
    "        position_to_insert = 0 if send_to_back else len(fit_data) + 1\n",
    "        if ref_BM_fit_data is not None:\n",
    "            fit_data.insert(position_to_insert, (ref_BM_fit_data, energy_shift, {\n",
    "                # Show the label on the fit if no eos data is visible (I want one and only one label), \n",
    "                # but don't show it for hidden plots\n",
    "                'label': f'{code_name}{warning_string}' if eos_data is None and send_to_back is False else None,\n",
    "                'alpha': alpha,\n",
    "                'curve_color': curve_color\n",
    "            }))\n",
    "        \n",
    "        # Plot EOS points straigh away.\n",
    "        if eos_data is not None:\n",
    "            volumes, energies = (np.array(eos_data).T).tolist()\n",
    "            # Don't show the label for hidden plots\n",
    "            label = f'{code_name}{warning_string}' if send_to_back is False else None\n",
    "            axes.plot(volumes, np.array(energies) - energy_shift, 'o', color=curve_color, label=label, alpha=alpha)\n",
    "            if not send_to_back:\n",
    "                if y_range is None:\n",
    "                    y_range = (min(energies) - energy_shift, max(energies) - energy_shift)\n",
    "                else:\n",
    "                    y_range = (\n",
    "                        min(min(energies) - energy_shift, y_range[0]), \n",
    "                        max(max(energies) - energy_shift, y_range[1]))\n",
    "            \n",
    "    # A check on the dense_volume_range is needed since we are\n",
    "    # now out of the loop and it is possible that any code managed to have data for\n",
    "    # a paricular element.\n",
    "    if dense_volume_range is not None:\n",
    "        dense_volumes = np.linspace(dense_volume_range[0], dense_volume_range[1], 100)\n",
    "\n",
    "        # Plot all fits\n",
    "        for ref_BM_fit_data, energy_shift, plot_params in fit_data:        \n",
    "            reference_eos_fit_energy = birch_murnaghan(\n",
    "                V=dense_volumes,\n",
    "                E0=ref_BM_fit_data['E0'],\n",
    "                V0=ref_BM_fit_data['min_volume'],\n",
    "                B0=ref_BM_fit_data['bulk_modulus_ev_ang3'],\n",
    "                B01=ref_BM_fit_data['bulk_deriv']\n",
    "            )   \n",
    "            axes.plot(\n",
    "                dense_volumes,\n",
    "                np.array(reference_eos_fit_energy) - energy_shift, '-',\n",
    "                color=plot_params['curve_color'],\n",
    "                alpha=plot_params['alpha'] * 0.5,\n",
    "                label=plot_params['label']\n",
    "            )\n",
    "\n",
    "        # Set the y range to (visible) points only, if at least one of the selected codes had EOS data points\n",
    "        if y_range is not None:\n",
    "            # Make sure that the minimum is zero (or negative if needed)\n",
    "            y_range = (min(y_range[0], 0), y_range[1])\n",
    "            axes.set_ylim(y_range)"
   ]
  },
  {
   "cell_type": "code",
   "execution_count": 7,
   "metadata": {},
   "outputs": [
    {
     "data": {
      "application/vnd.jupyter.widget-view+json": {
       "model_id": "abb6fa36a569413d9503253fb9fa3493",
       "version_major": 2,
       "version_minor": 0
      },
      "text/plain": [
       "SelectMultiple(description='Code plugins', index=(0, 1, 2, 3, 4, 5, 6, 7, 8, 9, 10, 11, 12, 13), options=('abi…"
      ]
     },
     "metadata": {},
     "output_type": "display_data"
    },
    {
     "data": {
      "application/vnd.jupyter.widget-view+json": {
       "model_id": "c4808f69782a47299bfba6e88a8c8120",
       "version_major": 2,
       "version_minor": 0
      },
      "text/plain": [
       "PTableWidget(allElements=['H', 'He', 'Li', 'Be', 'B', 'C', 'N', 'O', 'F', 'Ne', 'Na', 'Mg', 'Al', 'Si', 'P', '…"
      ]
     },
     "metadata": {},
     "output_type": "display_data"
    }
   ],
   "source": [
    "ipw_codes = ipw.SelectMultiple(\n",
    "    options=sorted(code_results),\n",
    "    value=sorted(code_results), # Select all\n",
    "    rows=15,\n",
    "    description='Code plugins',\n",
    "    disabled=False\n",
    ")\n",
    "\n",
    "ipw_periodic = widget_periodictable.PTableWidget(states=1, selected_colors = [\"#a6cee3\"], selected_elements={'Si': 0})\n",
    "\n",
    "ipw_output = ipw.Output()\n",
    "\n",
    "def replot():\n",
    "    with ipw_output:\n",
    "        ipw_output.clear_output(wait=True)\n",
    "        for element in sorted(ipw_periodic.selected_elements.keys()):\n",
    "            fig, axes_list = pl.subplots(3, 2, figsize=((14,20)))\n",
    "\n",
    "            for configuration, axes in zip(\n",
    "                    ['XO', 'XO2', 'XO3', 'X2O', 'X2O3', 'X2O5'],\n",
    "                    axes_list.flatten()\n",
    "                ):\n",
    "                plot_for_element(code_results=code_results, element=element, configuration=configuration, selected_codes=ipw_codes.value, axes=axes)\n",
    "\n",
    "                axes.legend(loc='upper center')\n",
    "                axes.set_xlabel(\"Cell volume ($\\\\AA^2$)\")\n",
    "                axes.set_ylabel(\"$E_{tot}$ (eV)\")\n",
    "                conf_nice = get_conf_nice(configuration)\n",
    "                axes.set_title(f\"{element} ({conf_nice})\")\n",
    "\n",
    "        pl.show()\n",
    "\n",
    "def on_codes_change(event):\n",
    "    if event['type'] == 'change':\n",
    "        replot()\n",
    "\n",
    "last_selected = ipw_periodic.selected_elements\n",
    "def on_element_select(event):\n",
    "    global last_selected\n",
    "\n",
    "    if event['name'] == 'selected_elements' and event['type'] == 'change':\n",
    "        if tuple(event['new'].keys()) == ('Du', ):\n",
    "            last_selected = event['old']\n",
    "        elif tuple(event['old'].keys()) == ('Du', ):\n",
    "            #print(last_selected, event['new'])\n",
    "            if len(event['new']) != 1:\n",
    "                # Reset to only one element only if there is more than one selected,\n",
    "                # to avoid infinite loops\n",
    "                newly_selected = set(event['new']).difference(last_selected)\n",
    "                # If this is empty it's ok, unselect all\n",
    "                # If there is more than one, that's weird... to avoid problems, anyway, I pick one of the two\n",
    "                if newly_selected:\n",
    "                    ipw_periodic.selected_elements = {list(newly_selected)[0]: 0}\n",
    "                else:\n",
    "                    ipw_periodic.selected_elements = {}\n",
    "                # To have the correct 'last' value for next calls\n",
    "                last_selected = ipw_periodic.selected_elements\n",
    "            replot()\n",
    "\n",
    "ipw_codes.observe(on_codes_change)\n",
    "ipw_periodic.observe(on_element_select)\n",
    "\n",
    "display(ipw_codes)\n",
    "display(ipw_periodic)"
   ]
  },
  {
   "cell_type": "code",
   "execution_count": 8,
   "metadata": {},
   "outputs": [
    {
     "data": {
      "application/vnd.jupyter.widget-view+json": {
       "model_id": "0c78c237eeb740809e07d97075573fa5",
       "version_major": 2,
       "version_minor": 0
      },
      "text/plain": [
       "Output()"
      ]
     },
     "metadata": {},
     "output_type": "display_data"
    }
   ],
   "source": [
    "# Display in a different cell, so if there is scrolling, it's independent of the top widgets\n",
    "display(ipw_output)"
   ]
  },
  {
   "cell_type": "code",
   "execution_count": 9,
   "metadata": {},
   "outputs": [],
   "source": [
    "# Trigger first plot\n",
    "replot()"
   ]
  },
  {
   "cell_type": "code",
   "execution_count": null,
   "metadata": {},
   "outputs": [],
   "source": []
  },
  {
   "cell_type": "code",
   "execution_count": null,
   "metadata": {},
   "outputs": [],
   "source": []
  }
 ],
 "metadata": {
  "kernelspec": {
   "display_name": "Python 3 (ipykernel)",
   "language": "python",
   "name": "python3"
  },
  "language_info": {
   "codemirror_mode": {
    "name": "ipython",
    "version": 3
   },
   "file_extension": ".py",
   "mimetype": "text/x-python",
   "name": "python",
   "nbconvert_exporter": "python",
   "pygments_lexer": "ipython3",
   "version": "3.7.9"
  }
 },
 "nbformat": 4,
 "nbformat_minor": 4
}
