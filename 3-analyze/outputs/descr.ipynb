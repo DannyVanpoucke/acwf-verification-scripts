{
 "cells": [
  {
   "cell_type": "markdown",
   "id": "008c0548",
   "metadata": {},
   "source": [
    "- delta.\n",
    "  The delta quantity used in the first science paper, but absolute, not devided by number of atoms \n",
    "- delta_per_atom.\n",
    "  The delta quantity used in the first science paper\n",
    "- Prefactor*epsilon2_SSR. Oleg's suggestion of an improved delta, independent on the bulk modulus, unitless. A Prefactor can be selected\n",
    "- Prefactor*B0_rel_diff. Relative difference on the bulk modulus, a Prefactor can be selected\n",
    "- Prefactor*V0_rel_diff. Relative difference on the equilibrium volume, a Prefactor can be selected#\n",
    "- Prefactor*B1_rel_diff. Relative difference on the derivative of the bulk modulus, a Prefactor can be selected.\n",
    "- Prefactor*|relerr_vec(weight_bo,weight_b1)|. Nicola's suggestion of a quantity directly deriving from V0, B0, B1. It is the module of the vector having as components the relative difference of V0, B0, B1. A weight can be put before the B0 and B1 relative difference using the weight_Bo and weight_B1 selectors. A Prefactor can be selected\n",
    "\n"
   ]
  },
  {
   "cell_type": "code",
   "execution_count": null,
   "id": "0e9c1f7d",
   "metadata": {},
   "outputs": [],
   "source": []
  }
 ],
 "metadata": {
  "kernelspec": {
   "display_name": "Python 3",
   "language": "python",
   "name": "python3"
  },
  "language_info": {
   "codemirror_mode": {
    "name": "ipython",
    "version": 3
   },
   "file_extension": ".py",
   "mimetype": "text/x-python",
   "name": "python",
   "nbconvert_exporter": "python",
   "pygments_lexer": "ipython3",
   "version": "3.6.9"
  }
 },
 "nbformat": 4,
 "nbformat_minor": 5
}
